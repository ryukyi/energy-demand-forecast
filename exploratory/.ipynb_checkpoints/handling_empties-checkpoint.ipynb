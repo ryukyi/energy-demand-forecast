{
 "cells": [
  {
   "cell_type": "code",
   "execution_count": 1,
   "id": "ac0ec044-2e02-4389-a5cd-5ac6bf7be2d8",
   "metadata": {},
   "outputs": [
    {
     "ename": "ModuleNotFoundError",
     "evalue": "No module named 'exploratory'",
     "output_type": "error",
     "traceback": [
      "\u001b[0;31m---------------------------------------------------------------------------\u001b[0m",
      "\u001b[0;31mModuleNotFoundError\u001b[0m                       Traceback (most recent call last)",
      "Cell \u001b[0;32mIn[1], line 10\u001b[0m\n\u001b[1;32m      7\u001b[0m \u001b[38;5;28;01mfrom\u001b[39;00m \u001b[38;5;21;01mloguru\u001b[39;00m \u001b[38;5;28;01mimport\u001b[39;00m logger\n\u001b[1;32m      8\u001b[0m \u001b[38;5;28;01mfrom\u001b[39;00m \u001b[38;5;21;01mscipy\u001b[39;00m\u001b[38;5;21;01m.\u001b[39;00m\u001b[38;5;21;01mstats\u001b[39;00m \u001b[38;5;28;01mimport\u001b[39;00m shapiro\n\u001b[0;32m---> 10\u001b[0m \u001b[38;5;28;01mfrom\u001b[39;00m \u001b[38;5;21;01mexploratory\u001b[39;00m\u001b[38;5;21;01m.\u001b[39;00m\u001b[38;5;21;01mvisualise\u001b[39;00m\u001b[38;5;21;01m.\u001b[39;00m\u001b[38;5;21;01mskewness\u001b[39;00m \u001b[38;5;28;01mimport\u001b[39;00m plot_histogram\n\u001b[1;32m     12\u001b[0m \u001b[38;5;66;03m# Define the path to the zip file\u001b[39;00m\n\u001b[1;32m     13\u001b[0m p \u001b[38;5;241m=\u001b[39m Path(\u001b[38;5;124m\"\u001b[39m\u001b[38;5;124mdata/raw/hourly_energy_demand_generation.zip\u001b[39m\u001b[38;5;124m\"\u001b[39m)\n",
      "\u001b[0;31mModuleNotFoundError\u001b[0m: No module named 'exploratory'"
     ]
    }
   ],
   "source": [
    "\"\"\"Decide what to do with the missing values.\"\"\"\n",
    "\n",
    "from pathlib import Path\n",
    "from zipfile import ZipFile\n",
    "\n",
    "import pandas as pd\n",
    "from loguru import logger\n",
    "from scipy.stats import shapiro\n",
    "\n",
    "# from exploratory.visualise.skewness import plot_histogram\n",
    "\n",
    "# Define the path to the zip file\n",
    "p = Path(\"data/raw/hourly_energy_demand_generation.zip\")\n",
    "\n",
    "# Initialize empty DataFrames\n",
    "energy_df = pd.DataFrame()\n",
    "weather_df = pd.DataFrame()\n",
    "\n",
    "# Open the zip file\n",
    "with ZipFile(p, \"r\") as zipdata:\n",
    "    # Iterate over the files in the zip file\n",
    "    for f in zipdata.filelist:\n",
    "        # Check if the file is the energy dataset\n",
    "        if f.filename == \"energy_dataset.csv\":\n",
    "            # Read the CSV file into a pandas DataFrame\n",
    "            energy_df = pd.read_csv(zipdata.open(f.filename))\n",
    "            logger.debug(\"Energy data loaded.\")\n",
    "        # Check if the file is the weather features dataset\n",
    "        elif f.filename == \"weather_features.csv\":\n",
    "            # Read the CSV file into a pandas DataFrame\n",
    "            weather_df = pd.read_csv(zipdata.open(f.filename))\n",
    "            logger.debug(\"Weather data loaded.\")"
   ]
  },
  {
   "cell_type": "code",
   "execution_count": null,
   "id": "0d652f02-f74a-4af7-af1e-4641ae1fda3c",
   "metadata": {},
   "outputs": [],
   "source": []
  },
  {
   "cell_type": "code",
   "execution_count": null,
   "id": "3a443bf6-fc2d-4caf-9603-6e7acb905a11",
   "metadata": {},
   "outputs": [],
   "source": []
  }
 ],
 "metadata": {
  "kernelspec": {
   "display_name": "Python 3 (ipykernel)",
   "language": "python",
   "name": "python3"
  },
  "language_info": {
   "codemirror_mode": {
    "name": "ipython",
    "version": 3
   },
   "file_extension": ".py",
   "mimetype": "text/x-python",
   "name": "python",
   "nbconvert_exporter": "python",
   "pygments_lexer": "ipython3",
   "version": "3.12.2"
  }
 },
 "nbformat": 4,
 "nbformat_minor": 5
}
