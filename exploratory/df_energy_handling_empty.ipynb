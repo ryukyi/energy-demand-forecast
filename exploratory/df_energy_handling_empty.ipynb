{
 "cells": [
  {
   "cell_type": "code",
   "execution_count": null,
   "id": "ac0ec044-2e02-4389-a5cd-5ac6bf7be2d8",
   "metadata": {},
   "outputs": [],
   "source": [
    "\"\"\"Exploring and preprocessing energy demand.\"\"\"\n",
    "\n",
    "import matplotlib.pyplot as plt\n",
    "import pandas as pd\n",
    "import seaborn as sns\n",
    "from loguru import logger\n",
    "\n",
    "from exploratory import df_energy"
   ]
  },
  {
   "cell_type": "code",
   "execution_count": null,
   "id": "3d4d4bd6",
   "metadata": {},
   "outputs": [],
   "source": [
    "# Removing nan or zero columns and forecast columns\n",
    "columns_to_check = ['generation fossil coal-derived gas', 'generation fossil oil shale', \n",
    "                     'generation fossil peat', 'generation geothermal', \n",
    "                     'generation hydro pumped storage aggregated', 'generation marine', \n",
    "                     'generation wind offshore', 'forecast wind offshore eday ahead',\n",
    "                     'total load forecast', 'forecast solar day ahead',\n",
    "                     'forecast wind onshore day ahead']\n",
    "\n",
    "# Initialize lists to store the percentages\n",
    "nan_percentages = []\n",
    "zero_percentages = []\n",
    "\n",
    "for column in columns_to_check:\n",
    "    # Count NaN values\n",
    "    nan_count = df_energy[column].isna().sum()\n",
    "    # Count zeros\n",
    "    zero_count = (df_energy[column] == 0).sum()\n",
    "    # Total number of values in the column\n",
    "    total_values = len(df_energy[column])\n",
    "    \n",
    "    # Calculate the percentage of zeros and NaNs\n",
    "    nan_percentage = (nan_count / total_values) * 100\n",
    "    zero_percentage = (zero_count / total_values) * 100\n",
    "    \n",
    "    nan_percentages.append(nan_percentage)\n",
    "    zero_percentages.append(zero_percentage)\n",
    "\n",
    "# Create a bar plot\n",
    "plt.bar(columns_to_check, nan_percentages, label='NaN Percentage')\n",
    "plt.bar(columns_to_check, zero_percentages, bottom=nan_percentages, label='Zero Percentage')\n",
    "\n",
    "# Add labels and title\n",
    "plt.xlabel('Columns')\n",
    "# Rotate x-axis labels to be vertical\n",
    "plt.xticks(rotation='vertical')\n",
    "plt.ylabel('Percentage')\n",
    "plt.title('Percentage of NaNs and Zeros in Each Column')\n",
    "plt.legend()\n",
    "\n",
    "# Show the plot\n",
    "plt.show()\n"
   ]
  },
  {
   "cell_type": "code",
   "execution_count": null,
   "id": "6502702f",
   "metadata": {},
   "outputs": [],
   "source": [
    "# We can see either all values are zero/nan so drop\n",
    "df_energy = df_energy.drop(['generation fossil coal-derived gas','generation fossil oil shale', \n",
    "                            'generation fossil peat', 'generation geothermal', \n",
    "                            'generation hydro pumped storage aggregated', 'generation marine', \n",
    "                            'generation wind offshore', 'forecast wind offshore eday ahead',\n",
    "                            'total load forecast', 'forecast solar day ahead',\n",
    "                            'forecast wind onshore day ahead'], \n",
    "                            axis=1)\n",
    "\n",
    "df_energy.describe().round(2)"
   ]
  },
  {
   "cell_type": "code",
   "execution_count": null,
   "id": "581ef02e",
   "metadata": {},
   "outputs": [],
   "source": [
    "# ensure time axis is parsed correctly\n",
    "df_energy['time'] = pd.to_datetime(df_energy['time'], utc=True, infer_datetime_format=True)\n",
    "df_energy = df_energy.set_index('time')\n",
    "\n",
    "df_energy.info()"
   ]
  },
  {
   "cell_type": "code",
   "execution_count": null,
   "id": "e858afd8",
   "metadata": {},
   "outputs": [],
   "source": [
    "# Find NaNs and duplicates in df_energy\n",
    "logger.info(f'There are {df_energy.isnull().values.sum()} missing values or NaNs in df_energy.')\n",
    "\n",
    "temp_energy = df_energy.duplicated(keep='first').sum()\n",
    "\n",
    "logger.info(f'There are {temp_energy} duplicate rows in df_energy based on all columns.')\n",
    "\n",
    "# determine which rows to are Nans since timeseries shouldn't drop\n",
    "\n",
    "df_energy.isnull().sum(axis=0)"
   ]
  },
  {
   "cell_type": "code",
   "execution_count": null,
   "id": "720bc87c",
   "metadata": {},
   "outputs": [],
   "source": [
    "# Define a function to plot different types of time-series\n",
    "\n",
    "def plot_column_and_user_series(\n",
    "    df: pd.DataFrame = None,\n",
    "    column: str = None,\n",
    "    series: pd.Series = pd.Series([]),\n",
    "    label: str = None,\n",
    "    ylabel: str = None,\n",
    "    title: str = None,\n",
    "    start: int = 0,\n",
    "    end: int = None,\n",
    ") -> plt.Axes:\n",
    "    \"\"\"Plots a time-series either from a specified column in a DataFrame or from a custom pandas Series.\n",
    "\n",
    "    Parameters:\n",
    "    - df (pd.DataFrame, optional): The DataFrame containing the time-series data. Defaults to None.\n",
    "    - column (str, optional): The name of the column in the DataFrame to plot. Defaults to None.\n",
    "    - series (pd.Series, optional): A custom pandas Series to plot. Defaults to an empty Series.\n",
    "    - label (str, optional): The label for the plotted series. Defaults to None.\n",
    "    - ylabel (str, optional): The label for the y-axis. Defaults to None.\n",
    "    - title (str, optional): The title of the plot. Defaults to None.\n",
    "    - start (int, optional): The start index for slicing the DataFrame or Series. Defaults to 0.\n",
    "    - end (int, optional): The end index for slicing the DataFrame or Series. Defaults to None.\n",
    "\n",
    "    Returns:\n",
    "    - plt.Axes: The matplotlib Axes object of the plot.\n",
    "    \"\"\"\n",
    "    sns.set_theme()\n",
    "    fig, ax = plt.subplots(figsize=(30, 12))\n",
    "    ax.set_xlabel(\"Time\", fontsize=16)\n",
    "    if column:\n",
    "        ax.plot(df[column][start:end], label=label)\n",
    "        ax.set_ylabel(ylabel, fontsize=16)\n",
    "    if series.any():\n",
    "        ax.plot(series, label=label)\n",
    "        ax.set_ylabel(ylabel, fontsize=16)\n",
    "    if label:\n",
    "        ax.legend(fontsize=16)\n",
    "    if title:\n",
    "        ax.set_title(title, fontsize=24)\n",
    "    ax.grid(True)\n",
    "    return ax\n",
    "\n"
   ]
  },
  {
   "cell_type": "code",
   "execution_count": null,
   "id": "f963c9dd",
   "metadata": {},
   "outputs": [],
   "source": [
    "# Zoom into the plot of the hourly (actual) total load\n",
    "\n",
    "ax = plot_column_and_user_series(df=df_energy, column='total load actual', ylabel='Total Load (MWh)',\n",
    "                 title='Actual Total Load (First 2 weeks - Original)', end=24*7*2)\n",
    "plt.show()"
   ]
  },
  {
   "cell_type": "code",
   "execution_count": null,
   "id": "564f1a9c",
   "metadata": {},
   "outputs": [],
   "source": [
    "# Since the nan gap is small and the timeseries pattern is consistent, interpolation is appropriate\n",
    "# check if the other null values correspond with this time\n",
    "df_energy[df_energy.isnull().any(axis=1)]\n",
    "# The null values in the columns describing the type of energy generation mostly coincide with each other.\n",
    "# The null values in 'actual total load' appear in other rows as well. \n"
   ]
  },
  {
   "cell_type": "code",
   "execution_count": null,
   "id": "d5417fdb",
   "metadata": {},
   "outputs": [],
   "source": [
    "# In order to handle the null values in df_energy, use a linear interpolation with a forward direction. \n",
    "# Possibly other kinds of interpolation would be better; nevertheless, we prefer to use the simplest model possible. \n",
    "# Only a small part of input data will be noisy and it will not affect performance noticeably.\n",
    "df_energy.interpolate(method='linear', limit_direction='forward', inplace=True, axis=0)"
   ]
  },
  {
   "cell_type": "code",
   "execution_count": null,
   "id": "848aef8c",
   "metadata": {},
   "outputs": [],
   "source": [
    "# It look like df_energy has been cleaned successfully and is ready for further use as input into our model. \n",
    "# The 1-4 zeroes in the columns which have to do with energy generation by type should not concern us very much. \n",
    "# The 'generation hydro pumped storage consumption' may look suspicious, but we should have in mind \n",
    "# that this type of energy is only used for load balancing, being consumed when in peak energy demands.\n",
    "logger.info('Non-zero values in each column:\\n', df_energy.astype(bool).sum(axis=0), sep='\\n')"
   ]
  }
 ],
 "metadata": {
  "kernelspec": {
   "display_name": "Python 3 (ipykernel)",
   "language": "python",
   "name": "python3"
  },
  "language_info": {
   "codemirror_mode": {
    "name": "ipython",
    "version": 3
   },
   "file_extension": ".py",
   "mimetype": "text/x-python",
   "name": "python",
   "nbconvert_exporter": "python",
   "pygments_lexer": "ipython3",
   "version": "3.12.2"
  }
 },
 "nbformat": 4,
 "nbformat_minor": 5
}
